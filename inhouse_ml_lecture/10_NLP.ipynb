{
  "nbformat": 4,
  "nbformat_minor": 0,
  "metadata": {
    "accelerator": "GPU",
    "colab": {
      "name": "10_NLP.ipynb",
      "provenance": [],
      "collapsed_sections": []
    },
    "kernelspec": {
      "display_name": "Python 3",
      "language": "python",
      "name": "python3"
    },
    "language_info": {
      "codemirror_mode": {
        "name": "ipython",
        "version": 3
      },
      "file_extension": ".py",
      "mimetype": "text/x-python",
      "name": "python",
      "nbconvert_exporter": "python",
      "pygments_lexer": "ipython3",
      "version": "3.8.5"
    }
  },
  "cells": [
    {
      "cell_type": "markdown",
      "metadata": {
        "colab_type": "text",
        "id": "I1uizVBrqBaD"
      },
      "source": [
        "# 180. 영화평 Text 분류 - Sentiment Analysis\n",
        "\n",
        "- IMDB (Internet Movie Database, https://www.imdb.com/)  Dataset\n",
        "\n",
        "\n",
        "- 각 25,000 개의 training/testing set 으로 구성된 IMDB 영화관람평  \n",
        "\n",
        "\n",
        "- “imdb_reviews” – encoding 되어있지 않은 string 형태의 data  \n",
        "\n",
        "\n",
        "- label : positive, negative binary classification"
      ]
    },
    {
      "cell_type": "markdown",
      "metadata": {
        "colab_type": "text",
        "id": "S0b7bx1OqBaE"
      },
      "source": [
        "## imbd_reviews (string data) 이용 감성 (이진) 분류"
      ]
    },
    {
      "cell_type": "code",
      "metadata": {
        "colab_type": "code",
        "id": "hg6PPQxkqBaF",
        "colab": {}
      },
      "source": [
        "import tensorflow as tf\n",
        "from tensorflow import keras\n",
        "from tensorflow.keras.layers import Dense, LSTM, Embedding, Bidirectional\n",
        "from tensorflow.keras.models import Sequential\n",
        "import tensorflow_datasets as tfds\n",
        "import numpy as np"
      ],
      "execution_count": 1,
      "outputs": []
    },
    {
      "cell_type": "code",
      "metadata": {
        "colab_type": "code",
        "id": "kkFAhANFqBaO",
        "colab": {}
      },
      "source": [
        "dataset, info = tfds.load('imdb_reviews', with_info=True,as_supervised=True)\n",
        "\n",
        "train_dataset, test_dataset = dataset['train'], dataset['test']"
      ],
      "execution_count": 2,
      "outputs": []
    },
    {
      "cell_type": "markdown",
      "metadata": {
        "colab_type": "text",
        "id": "p9N0cMv2qBaT"
      },
      "source": [
        "### tfds 는 tf.Tensor 반환"
      ]
    },
    {
      "cell_type": "code",
      "metadata": {
        "colab_type": "code",
        "id": "7B0jxUq2qBaU",
        "colab": {
          "base_uri": "https://localhost:8080/",
          "height": 90
        },
        "outputId": "5a75d7a5-cfa4-4f55-f4fe-b62b739fdbf4"
      },
      "source": [
        "for input, label in dataset['test']:\n",
        "    print(label)\n",
        "    print()\n",
        "    print(input)\n",
        "    break"
      ],
      "execution_count": 3,
      "outputs": [
        {
          "output_type": "stream",
          "text": [
            "tf.Tensor(1, shape=(), dtype=int64)\n",
            "\n",
            "tf.Tensor(b\"There are films that make careers. For George Romero, it was NIGHT OF THE LIVING DEAD; for Kevin Smith, CLERKS; for Robert Rodriguez, EL MARIACHI. Add to that list Onur Tukel's absolutely amazing DING-A-LING-LESS. Flawless film-making, and as assured and as professional as any of the aforementioned movies. I haven't laughed this hard since I saw THE FULL MONTY. (And, even then, I don't think I laughed quite this hard... So to speak.) Tukel's talent is considerable: DING-A-LING-LESS is so chock full of double entendres that one would have to sit down with a copy of this script and do a line-by-line examination of it to fully appreciate the, uh, breadth and width of it. Every shot is beautifully composed (a clear sign of a sure-handed director), and the performances all around are solid (there's none of the over-the-top scenery chewing one might've expected from a film like this). DING-A-LING-LESS is a film whose time has come.\", shape=(), dtype=string)\n"
          ],
          "name": "stdout"
        }
      ]
    },
    {
      "cell_type": "markdown",
      "metadata": {
        "colab_type": "text",
        "id": "BnS9z6Z2qBaa"
      },
      "source": [
        "## keras.preprocessing module 을 이용하여 tokenize 및 padding\n",
        "- keras.preprocessing.text.Tokenizer  \n",
        "\n",
        "- keras.preprocessing.sequence.pad_sequence"
      ]
    },
    {
      "cell_type": "code",
      "metadata": {
        "colab_type": "code",
        "id": "gzTkP-1RqBab",
        "colab": {}
      },
      "source": [
        "train_sentences = []\n",
        "train_labels = []\n",
        "\n",
        "test_sentences = []\n",
        "test_labels = []"
      ],
      "execution_count": 4,
      "outputs": []
    },
    {
      "cell_type": "code",
      "metadata": {
        "colab_type": "code",
        "id": "wplxqJkSqBah",
        "colab": {}
      },
      "source": [
        "for sent, label in train_dataset:\n",
        "    train_sentences.append(str(sent.numpy()))\n",
        "    train_labels.append(label.numpy())"
      ],
      "execution_count": 5,
      "outputs": []
    },
    {
      "cell_type": "code",
      "metadata": {
        "colab_type": "code",
        "id": "AwcAy3spqBak",
        "colab": {
          "base_uri": "https://localhost:8080/",
          "height": 72
        },
        "outputId": "46c9de6d-d966-47a5-d44a-4c4902921110"
      },
      "source": [
        "print(train_labels[-1])\n",
        "print(train_sentences[-1])"
      ],
      "execution_count": 6,
      "outputs": [
        {
          "output_type": "stream",
          "text": [
            "1\n",
            "b'First of all, Riget is wonderful. Good comedy and mystery thriller at the same time. Nice combination of strange \\'dogma\\' style of telling the story together with good music and great actors. But unfortunately there\\'s no \\'the end\\'. As for me it\\'s unacceptable. I was thinking... how it will be possible to continue the story without Helmer and Drusse? ...and I have some idea. I think Lars should make RIGET III a little bit different. I\\'m sure that 3rd part without Helmer wouldn\\'t be the same. So here\\'s my suggestion. Mayble little bit stupid, maybe not. I know that Lars likes to experiment. So why not to make small experiment with Riget3? I think the only solution here is to create puppet-driven animation (like for example \"team America\" by Trey Parker) or even computer 3d animation. I know it\\'s not the same as real actors, but in principle I believe it could work... only this way it\\'s possible to make actors alive again. For Riget fans this shouldn\\'t be so big difference - if the animation will be done in good way average \\'watcher\\' will consider it normal just after first few shots of the movie. The most important thing now is the story. It\\'s completely understandable that it\\'s not possible to create Riget 3 with the actors nowadays. So why not to play with animation? And... look for the possibilities that it gives to you! Even marketing one! Great director finishes his trilogy after 10 years using puppet animation. Just dreams?<br /><br />I hope to see Riget 3 someday... or even to see just the script. I\\'m curious how the story ends... and as I expect- everybody here do.<br /><br />greets, slaj<br /><br />ps: I\\'m not talking about the \"kingdom hospital\" by Stephen King ;-)'\n"
          ],
          "name": "stdout"
        }
      ]
    },
    {
      "cell_type": "code",
      "metadata": {
        "colab_type": "code",
        "id": "gpNI1hILqBao",
        "colab": {}
      },
      "source": [
        "for sent, label in test_dataset:\n",
        "    test_sentences.append(str(sent.numpy()))\n",
        "    test_labels.append(label.numpy())"
      ],
      "execution_count": 7,
      "outputs": []
    },
    {
      "cell_type": "code",
      "metadata": {
        "colab_type": "code",
        "id": "dPxbS4mBqBar",
        "colab": {
          "base_uri": "https://localhost:8080/",
          "height": 72
        },
        "outputId": "6549e9ec-c6a3-482d-d7c4-29250efda00d"
      },
      "source": [
        "print(test_labels[-1])\n",
        "print(test_sentences[-1])"
      ],
      "execution_count": 8,
      "outputs": [
        {
          "output_type": "stream",
          "text": [
            "1\n",
            "b\"They just don't make cartoons like they used to. This one had wit, great characters, and the greatest ensemble of voice over artists ever assembled for a daytime cartoon show. This still remains as one of the highest rated daytime cartoon shows, and one of the most honored, winning several Emmy Awards.\"\n"
          ],
          "name": "stdout"
        }
      ]
    },
    {
      "cell_type": "markdown",
      "metadata": {
        "colab_type": "text",
        "id": "cYU9_iKEqBau"
      },
      "source": [
        "## train_labels, test_labels 를 Python list 에서 numpy array 로 변환"
      ]
    },
    {
      "cell_type": "code",
      "metadata": {
        "colab_type": "code",
        "id": "hh2ONA0GqBau",
        "colab": {
          "base_uri": "https://localhost:8080/",
          "height": 52
        },
        "outputId": "d4a878df-4fda-4b40-e600-8dcfb8f555cf"
      },
      "source": [
        "train_labels = np.array(train_labels)\n",
        "test_labels = np.array(test_labels)\n",
        "\n",
        "print(train_labels.shape)\n",
        "print(test_labels.shape)"
      ],
      "execution_count": 9,
      "outputs": [
        {
          "output_type": "stream",
          "text": [
            "(25000,)\n",
            "(25000,)\n"
          ],
          "name": "stdout"
        }
      ]
    },
    {
      "cell_type": "markdown",
      "metadata": {
        "colab_type": "text",
        "id": "cbidTe45qBax"
      },
      "source": [
        "## train_sentences, test_sentences text 를 sequence 로 변환 "
      ]
    },
    {
      "cell_type": "code",
      "metadata": {
        "colab_type": "code",
        "id": "NuJGndVkqBay",
        "colab": {}
      },
      "source": [
        "vocab_size = 10000\n",
        "\n",
        "from tensorflow.keras.preprocessing.text import Tokenizer\n",
        "from tensorflow.keras.preprocessing.sequence import pad_sequences\n",
        "\n",
        "tokenizer = Tokenizer(num_words = vocab_size, oov_token='<OOV>')\n",
        "tokenizer.fit_on_texts(train_sentences)"
      ],
      "execution_count": 10,
      "outputs": []
    },
    {
      "cell_type": "code",
      "metadata": {
        "colab_type": "code",
        "id": "_C3n9R4IqBa1",
        "colab": {}
      },
      "source": [
        "train_sequences = tokenizer.texts_to_sequences(train_sentences)\n",
        "test_sequences = tokenizer.texts_to_sequences(test_sentences)"
      ],
      "execution_count": 11,
      "outputs": []
    },
    {
      "cell_type": "code",
      "metadata": {
        "colab_type": "code",
        "id": "GmOUcdlsBSl3",
        "colab": {
          "base_uri": "https://localhost:8080/",
          "height": 54
        },
        "outputId": "95f67f79-5c7b-46c6-e9ff-4ad7bcb8874e"
      },
      "source": [
        "print(train_sequences[0])"
      ],
      "execution_count": 12,
      "outputs": [
        {
          "output_type": "stream",
          "text": [
            "[59, 12, 14, 35, 439, 400, 18, 174, 29, 1, 9, 33, 1378, 3401, 42, 496, 1, 197, 25, 88, 156, 19, 12, 211, 340, 29, 70, 248, 213, 9, 486, 62, 70, 88, 116, 99, 24, 5740, 12, 3317, 657, 777, 12, 18, 7, 35, 406, 8228, 178, 2477, 426, 2, 92, 1253, 140, 72, 149, 55, 2, 1, 7525, 72, 229, 70, 2962, 16, 1, 2880, 1, 1, 1506, 4998, 3, 40, 3947, 119, 1608, 17, 3401, 14, 163, 19, 4, 1253, 927, 7986, 9, 4, 18, 13, 14, 4200, 5, 102, 148, 1237, 11, 240, 692, 13, 44, 25, 101, 39, 12, 7232, 1, 39, 1378, 1, 52, 409, 11, 99, 1214, 874, 145, 10]\n"
          ],
          "name": "stdout"
        }
      ]
    },
    {
      "cell_type": "code",
      "metadata": {
        "colab_type": "code",
        "id": "lTeWFNQnqBa3",
        "colab": {
          "base_uri": "https://localhost:8080/",
          "height": 265
        },
        "outputId": "28bf0acb-9e4a-49e3-adf3-73e128025231"
      },
      "source": [
        "import matplotlib.pyplot as plt\n",
        "\n",
        "plt.hist([len(s) for s in train_sequences] + [len(s) for s in test_sequences], bins=50);"
      ],
      "execution_count": 13,
      "outputs": [
        {
          "output_type": "display_data",
          "data": {
            "image/png": "[encoded data removed]",
            "text/plain": [
              "<Figure size 432x288 with 1 Axes>"
            ]
          },
          "metadata": {
            "tags": [],
            "needs_background": "light"
          }
        }
      ]
    },
    {
      "cell_type": "code",
      "metadata": {
        "colab_type": "code",
        "id": "xDMrGPr1qBa5",
        "colab": {}
      },
      "source": [
        "max_length = 150\n",
        "\n",
        "train_padded = pad_sequences(train_sequences,maxlen=max_length, truncating='post', padding='post')\n",
        "\n",
        "\n",
        "test_padded = pad_sequences(test_sequences,maxlen=max_length, truncating='post', padding='post')"
      ],
      "execution_count": 14,
      "outputs": []
    },
    {
      "cell_type": "code",
      "metadata": {
        "colab_type": "code",
        "id": "B3To4CLbqBa9",
        "colab": {
          "base_uri": "https://localhost:8080/",
          "height": 246
        },
        "outputId": "98d9f3f6-d76c-4ac9-e2c9-e3af8996cc06"
      },
      "source": [
        "print(train_padded.shape)\n",
        "print(test_padded.shape)\n",
        "print(train_padded[0])"
      ],
      "execution_count": 15,
      "outputs": [
        {
          "output_type": "stream",
          "text": [
            "(25000, 150)\n",
            "(25000, 150)\n",
            "[  59   12   14   35  439  400   18  174   29    1    9   33 1378 3401\n",
            "   42  496    1  197   25   88  156   19   12  211  340   29   70  248\n",
            "  213    9  486   62   70   88  116   99   24 5740   12 3317  657  777\n",
            "   12   18    7   35  406 8228  178 2477  426    2   92 1253  140   72\n",
            "  149   55    2    1 7525   72  229   70 2962   16    1 2880    1    1\n",
            " 1506 4998    3   40 3947  119 1608   17 3401   14  163   19    4 1253\n",
            "  927 7986    9    4   18   13   14 4200    5  102  148 1237   11  240\n",
            "  692   13   44   25  101   39   12 7232    1   39 1378    1   52  409\n",
            "   11   99 1214  874  145   10    0    0    0    0    0    0    0    0\n",
            "    0    0    0    0    0    0    0    0    0    0    0    0    0    0\n",
            "    0    0    0    0    0    0    0    0    0    0]\n"
          ],
          "name": "stdout"
        }
      ]
    },
    {
      "cell_type": "markdown",
      "metadata": {
        "colab_type": "text",
        "id": "J4j0WVzCqBbA"
      },
      "source": [
        "## sequence data 를 sentence 로 reverse conversion"
      ]
    },
    {
      "cell_type": "code",
      "metadata": {
        "colab_type": "code",
        "id": "zTjf-Rkz-ccn",
        "colab": {
          "base_uri": "https://localhost:8080/",
          "height": 106
        },
        "outputId": "c759f83e-f20b-4be9-af89-88cf5e404697"
      },
      "source": [
        "' '.join([tokenizer.index_word.get(i, '<pad>') for i in train_padded[0]])"
      ],
      "execution_count": 16,
      "outputs": [
        {
          "output_type": "execute_result",
          "data": {
            "application/vnd.google.colaboratory.intrinsic+json": {
              "type": "string"
            },
            "text/plain": [
              "\"b this was an absolutely terrible movie don't be <OOV> in by christopher walken or michael <OOV> both are great actors but this must simply be their worst role in history even their great acting could not redeem this movie's ridiculous storyline this movie is an early nineties us propaganda piece the most pathetic scenes were those when the <OOV> rebels were making their cases for <OOV> maria <OOV> <OOV> appeared phony and her pseudo love affair with walken was nothing but a pathetic emotional plug in a movie that was devoid of any real meaning i am disappointed that there are movies like this ruining <OOV> like christopher <OOV> good name i could barely sit through it <pad> <pad> <pad> <pad> <pad> <pad> <pad> <pad> <pad> <pad> <pad> <pad> <pad> <pad> <pad> <pad> <pad> <pad> <pad> <pad> <pad> <pad> <pad> <pad> <pad> <pad> <pad> <pad> <pad> <pad> <pad> <pad>\""
            ]
          },
          "metadata": {
            "tags": []
          },
          "execution_count": 16
        }
      ]
    },
    {
      "cell_type": "code",
      "metadata": {
        "colab_type": "code",
        "id": "LY7UPgb6qBbB",
        "colab": {
          "base_uri": "https://localhost:8080/",
          "height": 54
        },
        "outputId": "985cb4b3-9eeb-40dd-ad9e-9a9c45b5dc4a"
      },
      "source": [
        "print(train_sentences[0])"
      ],
      "execution_count": 17,
      "outputs": [
        {
          "output_type": "stream",
          "text": [
            "b\"This was an absolutely terrible movie. Don't be lured in by Christopher Walken or Michael Ironside. Both are great actors, but this must simply be their worst role in history. Even their great acting could not redeem this movie's ridiculous storyline. This movie is an early nineties US propaganda piece. The most pathetic scenes were those when the Columbian rebels were making their cases for revolutions. Maria Conchita Alonso appeared phony, and her pseudo-love affair with Walken was nothing but a pathetic emotional plug in a movie that was devoid of any real meaning. I am disappointed that there are movies like this, ruining actor's like Christopher Walken's good name. I could barely sit through it.\"\n"
          ],
          "name": "stdout"
        }
      ]
    },
    {
      "cell_type": "markdown",
      "metadata": {
        "colab_type": "text",
        "id": "wVXJRTjVqBbD"
      },
      "source": [
        "## model define"
      ]
    },
    {
      "cell_type": "code",
      "metadata": {
        "colab_type": "code",
        "id": "UjOwdAp2qBbE",
        "colab": {
          "base_uri": "https://localhost:8080/",
          "height": 298
        },
        "outputId": "16d83303-d573-4b29-b3dd-6f266ae56c35"
      },
      "source": [
        "model = tf.keras.Sequential([\n",
        "    Embedding(vocab_size+1, 64),\n",
        "    Bidirectional(tf.keras.layers.LSTM(64)),\n",
        "    Dense(64, activation='relu'),\n",
        "    Dense(1, activation='sigmoid')\n",
        "])\n",
        "\n",
        "model.compile(loss='binary_crossentropy',optimizer='adam',metrics=['accuracy'])\n",
        "model.summary()"
      ],
      "execution_count": 18,
      "outputs": [
        {
          "output_type": "stream",
          "text": [
            "Model: \"sequential\"\n",
            "_________________________________________________________________\n",
            "Layer (type)                 Output Shape              Param #   \n",
            "=================================================================\n",
            "embedding (Embedding)        (None, None, 64)          640064    \n",
            "_________________________________________________________________\n",
            "bidirectional (Bidirectional (None, 128)               66048     \n",
            "_________________________________________________________________\n",
            "dense (Dense)                (None, 64)                8256      \n",
            "_________________________________________________________________\n",
            "dense_1 (Dense)              (None, 1)                 65        \n",
            "=================================================================\n",
            "Total params: 714,433\n",
            "Trainable params: 714,433\n",
            "Non-trainable params: 0\n",
            "_________________________________________________________________\n"
          ],
          "name": "stdout"
        }
      ]
    },
    {
      "cell_type": "code",
      "metadata": {
        "colab_type": "code",
        "id": "aLFmPzmsqBbG",
        "colab": {
          "base_uri": "https://localhost:8080/",
          "height": 298
        },
        "outputId": "3a201873-98ca-473b-bf0f-19710d05fbed"
      },
      "source": [
        "model.summary()"
      ],
      "execution_count": 19,
      "outputs": [
        {
          "output_type": "stream",
          "text": [
            "Model: \"sequential\"\n",
            "_________________________________________________________________\n",
            "Layer (type)                 Output Shape              Param #   \n",
            "=================================================================\n",
            "embedding (Embedding)        (None, None, 64)          640064    \n",
            "_________________________________________________________________\n",
            "bidirectional (Bidirectional (None, 128)               66048     \n",
            "_________________________________________________________________\n",
            "dense (Dense)                (None, 64)                8256      \n",
            "_________________________________________________________________\n",
            "dense_1 (Dense)              (None, 1)                 65        \n",
            "=================================================================\n",
            "Total params: 714,433\n",
            "Trainable params: 714,433\n",
            "Non-trainable params: 0\n",
            "_________________________________________________________________\n"
          ],
          "name": "stdout"
        }
      ]
    },
    {
      "cell_type": "code",
      "metadata": {
        "colab_type": "code",
        "id": "hP4Mm5hTqBbI",
        "colab": {
          "base_uri": "https://localhost:8080/",
          "height": 545
        },
        "outputId": "23fd787b-2895-487e-b5ef-9e5976fd3881"
      },
      "source": [
        "num_epochs = 15\n",
        "history = model.fit(train_padded, train_labels, epochs=num_epochs, batch_size=128,\n",
        "          validation_data=(test_padded, test_labels), verbose=1)"
      ],
      "execution_count": 20,
      "outputs": [
        {
          "output_type": "stream",
          "text": [
            "Epoch 1/15\n",
            "196/196 [==============================] - 20s 102ms/step - loss: 0.4544 - accuracy: 0.7730 - val_loss: 0.3665 - val_accuracy: 0.8377\n",
            "Epoch 2/15\n",
            "196/196 [==============================] - 19s 97ms/step - loss: 0.2672 - accuracy: 0.8942 - val_loss: 0.3846 - val_accuracy: 0.8356\n",
            "Epoch 3/15\n",
            "196/196 [==============================] - 19s 99ms/step - loss: 0.2087 - accuracy: 0.9202 - val_loss: 0.4001 - val_accuracy: 0.8251\n",
            "Epoch 4/15\n",
            "196/196 [==============================] - 19s 98ms/step - loss: 0.1660 - accuracy: 0.9390 - val_loss: 0.4433 - val_accuracy: 0.8202\n",
            "Epoch 5/15\n",
            "196/196 [==============================] - 19s 98ms/step - loss: 0.1336 - accuracy: 0.9519 - val_loss: 0.6121 - val_accuracy: 0.8073\n",
            "Epoch 6/15\n",
            "196/196 [==============================] - 19s 97ms/step - loss: 0.1096 - accuracy: 0.9623 - val_loss: 0.7304 - val_accuracy: 0.8116\n",
            "Epoch 7/15\n",
            "196/196 [==============================] - 19s 97ms/step - loss: 0.0812 - accuracy: 0.9724 - val_loss: 0.5898 - val_accuracy: 0.8062\n",
            "Epoch 8/15\n",
            "196/196 [==============================] - 19s 97ms/step - loss: 0.0607 - accuracy: 0.9808 - val_loss: 0.8732 - val_accuracy: 0.8108\n",
            "Epoch 9/15\n",
            "196/196 [==============================] - 19s 97ms/step - loss: 0.0517 - accuracy: 0.9842 - val_loss: 0.7503 - val_accuracy: 0.8047\n",
            "Epoch 10/15\n",
            "196/196 [==============================] - 19s 97ms/step - loss: 0.0490 - accuracy: 0.9837 - val_loss: 0.7206 - val_accuracy: 0.8010\n",
            "Epoch 11/15\n",
            "196/196 [==============================] - 19s 98ms/step - loss: 0.0315 - accuracy: 0.9902 - val_loss: 1.0216 - val_accuracy: 0.8089\n",
            "Epoch 12/15\n",
            "196/196 [==============================] - 19s 98ms/step - loss: 0.0313 - accuracy: 0.9902 - val_loss: 0.9116 - val_accuracy: 0.7919\n",
            "Epoch 13/15\n",
            "196/196 [==============================] - 19s 97ms/step - loss: 0.0272 - accuracy: 0.9914 - val_loss: 1.0062 - val_accuracy: 0.8009\n",
            "Epoch 14/15\n",
            "196/196 [==============================] - 19s 97ms/step - loss: 0.0178 - accuracy: 0.9949 - val_loss: 1.0998 - val_accuracy: 0.8067\n",
            "Epoch 15/15\n",
            "196/196 [==============================] - 19s 97ms/step - loss: 0.0125 - accuracy: 0.9963 - val_loss: 1.3566 - val_accuracy: 0.8064\n"
          ],
          "name": "stdout"
        }
      ]
    },
    {
      "cell_type": "code",
      "metadata": {
        "colab_type": "code",
        "id": "ZPOjnfwkqBbK",
        "colab": {
          "base_uri": "https://localhost:8080/",
          "height": 280
        },
        "outputId": "4d554fb9-6a80-428a-f46d-92ae6f4d0ed9"
      },
      "source": [
        "import matplotlib.pyplot as plt\n",
        "\n",
        "fig, (ax1, ax2) = plt.subplots(1, 2, figsize=(12, 4))\n",
        "\n",
        "ax1.plot(history.history['accuracy'])\n",
        "ax1.plot(history.history['val_accuracy'])\n",
        "ax1.set_xlabel('Epochs')\n",
        "ax1.set_ylabel('accuracy')\n",
        "ax1.legend(['accuarcy', 'val_accuracy'])\n",
        "\n",
        "ax2.plot(history.history['loss'])\n",
        "ax2.plot(history.history['val_loss'])\n",
        "ax2.set_xlabel('Epochs')\n",
        "ax2.set_ylabel('loss')\n",
        "ax2.legend(['loss', 'val_loss'])\n",
        "plt.show()"
      ],
      "execution_count": 21,
      "outputs": [
        {
          "output_type": "display_data",
          "data": {
            "image/png": "[encoded data removed]",
            "text/plain": [
              "<Figure size 864x288 with 2 Axes>"
            ]
          },
          "metadata": {
            "tags": [],
            "needs_background": "light"
          }
        }
      ]
    },
    {
      "cell_type": "code",
      "metadata": {
        "colab_type": "code",
        "id": "1z-r1z0KqBbM",
        "colab": {
          "base_uri": "https://localhost:8080/",
          "height": 263
        },
        "outputId": "cacee44a-0b74-4edd-debf-6a6034e1b94c"
      },
      "source": [
        "# sample_text 바꿔가면서 돌려볼 것.\n",
        "#sample_text = ['The movei was terrible. I would not recommend the movie']\n",
        "#sample_text = ['The movei was fantastic. I would recommend the movie']\n",
        "sample_text = ['The animation and graphics were out of this world']\n",
        "sample_seq = tokenizer.texts_to_sequences(sample_text)\n",
        "sample_padded = pad_sequences(sample_seq, maxlen=max_length, padding='post', truncating='post')\n",
        "sample_padded"
      ],
      "execution_count": 22,
      "outputs": [
        {
          "output_type": "execute_result",
          "data": {
            "text/plain": [
              "array([[   2,  756,    3, 2888,   72,   46,    5,   12,  179,    0,    0,\n",
              "           0,    0,    0,    0,    0,    0,    0,    0,    0,    0,    0,\n",
              "           0,    0,    0,    0,    0,    0,    0,    0,    0,    0,    0,\n",
              "           0,    0,    0,    0,    0,    0,    0,    0,    0,    0,    0,\n",
              "           0,    0,    0,    0,    0,    0,    0,    0,    0,    0,    0,\n",
              "           0,    0,    0,    0,    0,    0,    0,    0,    0,    0,    0,\n",
              "           0,    0,    0,    0,    0,    0,    0,    0,    0,    0,    0,\n",
              "           0,    0,    0,    0,    0,    0,    0,    0,    0,    0,    0,\n",
              "           0,    0,    0,    0,    0,    0,    0,    0,    0,    0,    0,\n",
              "           0,    0,    0,    0,    0,    0,    0,    0,    0,    0,    0,\n",
              "           0,    0,    0,    0,    0,    0,    0,    0,    0,    0,    0,\n",
              "           0,    0,    0,    0,    0,    0,    0,    0,    0,    0,    0,\n",
              "           0,    0,    0,    0,    0,    0,    0,    0,    0,    0,    0,\n",
              "           0,    0,    0,    0,    0,    0,    0]], dtype=int32)"
            ]
          },
          "metadata": {
            "tags": []
          },
          "execution_count": 22
        }
      ]
    },
    {
      "cell_type": "code",
      "metadata": {
        "colab_type": "code",
        "id": "q0ZU4YQ7qBbO",
        "colab": {
          "base_uri": "https://localhost:8080/",
          "height": 34
        },
        "outputId": "6292f014-6776-4369-b733-0a5b75b19b81"
      },
      "source": [
        "model.predict([sample_padded])  # 이 확률로 긍정"
      ],
      "execution_count": 23,
      "outputs": [
        {
          "output_type": "execute_result",
          "data": {
            "text/plain": [
              "array([[0.99377304]], dtype=float32)"
            ]
          },
          "metadata": {
            "tags": []
          },
          "execution_count": 23
        }
      ]
    },
    {
      "cell_type": "code",
      "metadata": {
        "colab_type": "code",
        "id": "MC2fbupiq-fJ",
        "colab": {}
      },
      "source": [
        ""
      ],
      "execution_count": 23,
      "outputs": []
    }
  ]
}