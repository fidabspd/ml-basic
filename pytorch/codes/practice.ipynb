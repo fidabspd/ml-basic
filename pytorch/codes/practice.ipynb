{
 "cells": [
  {
   "cell_type": "code",
   "execution_count": 5,
   "id": "e6ed5f38",
   "metadata": {},
   "outputs": [],
   "source": [
    "CONFIGS = {\n",
    "    'data_path': '../data/',\n",
    "}"
   ]
  },
  {
   "cell_type": "code",
   "execution_count": 59,
   "id": "db44e714",
   "metadata": {},
   "outputs": [],
   "source": [
    "import numpy as np\n",
    "import pandas as pd\n",
    "\n",
    "import pickle\n",
    "\n",
    "import datetime"
   ]
  },
  {
   "cell_type": "code",
   "execution_count": 6,
   "id": "367837a6",
   "metadata": {},
   "outputs": [],
   "source": [
    "with open(CONFIGS['data_path']+'train_prob1.pkl', 'rb') as f:\n",
    "    train_origin = pickle.load(f)\n",
    "    \n",
    "with open(CONFIGS['data_path']+'test_prob1.pkl', 'rb') as f:\n",
    "    test_origin = pickle.load(f)"
   ]
  },
  {
   "cell_type": "code",
   "execution_count": 53,
   "id": "ee6a9da8",
   "metadata": {},
   "outputs": [],
   "source": [
    "train = train_origin.copy()\n",
    "test = test_origin.copy()"
   ]
  },
  {
   "cell_type": "code",
   "execution_count": 54,
   "id": "35e99d13",
   "metadata": {},
   "outputs": [],
   "source": [
    "def status_to_int(data):\n",
    "    new_data = data.copy()\n",
    "    new_data['status'] = new_data['status'].apply(lambda x: int(x[-1]))\n",
    "    return new_data\n",
    "\n",
    "def code_count_in_code(data, train):\n",
    "    oc = train.groupby(['origin_code'], as_index=False)[['dt']].count()\\\n",
    "        .rename(columns={'origin_code': 'code', 'dt': 'oc'})\n",
    "    dc = train.groupby(['destination_code'], as_index=False)[['dt']].count()\\\n",
    "        .rename(columns={'destination_code': 'code', 'dt': 'dc'})\n",
    "\n",
    "    code_count = pd.merge(oc, dc, how='outer', on='code').fillna(0)\n",
    "\n",
    "    merge_oc = pd.merge(\n",
    "        data, code_count.rename(columns={'code': 'origin_code'}),\n",
    "        how='left', on='origin_code'\n",
    "    ).rename(columns={'oc': 'oc_in_oc', 'dc': 'oc_in_dc'})\n",
    "\n",
    "    merge_dc = pd.merge(\n",
    "        merge_oc, code_count.rename(columns={'code': 'destination_code'}),\n",
    "        how='left', on='destination_code'\n",
    "    ).rename(columns={'oc': 'dc_in_oc', 'dc': 'dc_in_dc'})\n",
    "    \n",
    "    return merge_dc.fillna(0)\n",
    "\n",
    "def mk_time_data(data):\n",
    "    new_data = data.copy()\n",
    "    new_data['dt'] = new_data['dt'].apply(lambda x: datetime.datetime.strptime(x, '%Y-%m-%d %H:%M:%S.%f'))\n",
    "    \n",
    "    new_data['day'] = new_data['dt'].apply(lambda x: x.day)\n",
    "    \n",
    "    new_data['hour'] = new_data['dt'].apply(lambda x: x.hour)\n",
    "    new_data['cos_hour'] = np.cos(2*np.pi*(new_data['hour']/24))\n",
    "    new_data['sin_hour'] = np.sin(2*np.pi*(new_data['hour']/24))\n",
    "\n",
    "    new_data['minute'] = new_data['dt'].apply(lambda x: x.minute)\n",
    "    new_data['cos_minute'] = np.cos(2*np.pi*(new_data['minute']/60))\n",
    "    new_data['sin_minute'] = np.sin(2*np.pi*(new_data['minute']/60))\n",
    "\n",
    "    new_data['ts'] = new_data['hour']*6 + new_data['minute']//10\n",
    "    new_data['cos_ts'] = np.cos(2*np.pi*(new_data['ts']/(24*6)))\n",
    "    new_data['sin_ts'] = np.sin(2*np.pi*(new_data['ts']/(24*6)))\n",
    "\n",
    "    new_data['weekday'] = new_data['dt'].apply(lambda x: x.weekday())\n",
    "    new_data['cos_weekday'] = np.cos(2*np.pi*(new_data['weekday']/7))\n",
    "    new_data['sin_weekday'] = np.sin(2*np.pi*(new_data['weekday']/7))\n",
    "\n",
    "    new_data['weekts'] = new_data['weekday']*144 + new_data['ts']\n",
    "    new_data['cos_weekts'] = np.cos(2*np.pi*(new_data['weekts']/(144*7)))\n",
    "    new_data['sin_weekts'] = np.sin(2*np.pi*(new_data['weekts']/(144*7)))\n",
    "\n",
    "    new_data['dt'] = new_data['dt'].apply(lambda x: str(x))\n",
    "\n",
    "    new_data['is_weekend'] = 0\n",
    "    new_data.loc[\n",
    "        (new_data['weekday'] == 5) | (new_data['weekday'] == 6),\n",
    "        'is_weekend'\n",
    "    ] = 1\n",
    "\n",
    "    new_data['is_holiday'] = 0\n",
    "    new_data.loc[\n",
    "        (new_data['day'] == 5) | (new_data['day'] == 19),\n",
    "        'is_holiday'\n",
    "    ] = 1\n",
    "\n",
    "    new_data['is_before_holiday'] = 0\n",
    "    new_data.loc[\n",
    "        (new_data['day'] == 4) | (new_data['day'] == 18),\n",
    "        'is_before_holiday'\n",
    "    ] = 1\n",
    "\n",
    "    return new_data"
   ]
  },
  {
   "cell_type": "code",
   "execution_count": 55,
   "id": "a58cb046",
   "metadata": {},
   "outputs": [],
   "source": [
    "train, test = status_to_int(train), status_to_int(test)\n",
    "train, test = code_count_in_code(train, train), code_count_in_code(test, train)\n",
    "train, test = mk_time_data(train), mk_time_data(test)"
   ]
  },
  {
   "cell_type": "code",
   "execution_count": null,
   "id": "046f16e8",
   "metadata": {},
   "outputs": [],
   "source": []
  }
 ],
 "metadata": {
  "kernelspec": {
   "display_name": "Python 3 (ipykernel)",
   "language": "python",
   "name": "python3"
  },
  "language_info": {
   "codemirror_mode": {
    "name": "ipython",
    "version": 3
   },
   "file_extension": ".py",
   "mimetype": "text/x-python",
   "name": "python",
   "nbconvert_exporter": "python",
   "pygments_lexer": "ipython3",
   "version": "3.7.10"
  }
 },
 "nbformat": 4,
 "nbformat_minor": 5
}
