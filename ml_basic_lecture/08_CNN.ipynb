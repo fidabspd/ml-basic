{
 "cells": [
  {
   "cell_type": "markdown",
   "metadata": {},
   "source": [
    "# CNN"
   ]
  },
  {
   "cell_type": "code",
   "execution_count": 1,
   "metadata": {
    "colab": {
     "base_uri": "https://localhost:8080/",
     "height": 35
    },
    "colab_type": "code",
    "id": "cSXvKAYwG7T4",
    "outputId": "4307f110-4f20-483f-8f4d-de8efb41a740"
   },
   "outputs": [
    {
     "data": {
      "application/vnd.google.colaboratory.intrinsic+json": {
       "type": "string"
      },
      "text/plain": [
       "'2.3.0'"
      ]
     },
     "execution_count": 1,
     "metadata": {
      "tags": []
     },
     "output_type": "execute_result"
    }
   ],
   "source": [
    "import numpy as np\n",
    "import pandas as pd\n",
    "import matplotlib.pyplot as plt\n",
    "import tensorflow as tf\n",
    "from tensorflow.keras.layers import Input, Dense, Conv2D, Dropout, MaxPool2D, AveragePooling2D, Flatten, Activation\n",
    "from tensorflow.keras.models import Model, Sequential\n",
    "\n",
    "tf.__version__"
   ]
  },
  {
   "cell_type": "code",
   "execution_count": 2,
   "metadata": {
    "colab": {},
    "colab_type": "code",
    "id": "KGac_f11HTbR"
   },
   "outputs": [],
   "source": [
    "from tensorflow.keras.datasets import mnist\n",
    "np.random.seed(101)"
   ]
  },
  {
   "cell_type": "code",
   "execution_count": 3,
   "metadata": {
    "colab": {},
    "colab_type": "code",
    "id": "C-moC5yUH6l_"
   },
   "outputs": [],
   "source": [
    "(X_train, y_train), (X_test, y_test) = mnist.load_data()"
   ]
  },
  {
   "cell_type": "code",
   "execution_count": 4,
   "metadata": {
    "colab": {
     "base_uri": "https://localhost:8080/",
     "height": 34
    },
    "colab_type": "code",
    "id": "1syyRtSzIKmu",
    "outputId": "8103118a-e988-451e-9293-a91b993b9897"
   },
   "outputs": [
    {
     "name": "stdout",
     "output_type": "stream",
     "text": [
      "(60000, 28, 28) (10000, 28, 28) (60000,) (10000,)\n"
     ]
    }
   ],
   "source": [
    "print(X_train.shape, X_test.shape, y_train.shape, y_test.shape)"
   ]
  },
  {
   "cell_type": "code",
   "execution_count": 5,
   "metadata": {
    "colab": {
     "base_uri": "https://localhost:8080/",
     "height": 34
    },
    "colab_type": "code",
    "id": "_NggXFMKJf4r",
    "outputId": "50cde316-39d8-4b0d-b714-0e3e7a8583a3"
   },
   "outputs": [
    {
     "name": "stdout",
     "output_type": "stream",
     "text": [
      "(60000, 28, 28, 1) (10000, 28, 28, 1) (60000,) (10000,)\n"
     ]
    }
   ],
   "source": [
    "# input shape 맞추기\n",
    "X_train = np.expand_dims(X_train, axis = 3)\n",
    "X_test = np.expand_dims(X_test, axis = 3)\n",
    "\n",
    "# 같은효과\n",
    "# X_train.reshape(-1, 28, 28, 1)\n",
    "# X_test.reshape(-1, 28, 28, 1)\n",
    "\n",
    "print(X_train.shape, X_test.shape, y_train.shape, y_test.shape)"
   ]
  },
  {
   "cell_type": "code",
   "execution_count": 6,
   "metadata": {
    "colab": {
     "base_uri": "https://localhost:8080/",
     "height": 510
    },
    "colab_type": "code",
    "id": "5QSCPJqcIhMf",
    "outputId": "cbe5310e-2396-43aa-d086-506253ebf3d8"
   },
   "outputs": [
    {
     "data": {
      "text/plain": [
       "array([[  0],\n",
       "       [  0],\n",
       "       [  0],\n",
       "       [  0],\n",
       "       [  0],\n",
       "       [  0],\n",
       "       [  0],\n",
       "       [  0],\n",
       "       [ 30],\n",
       "       [ 36],\n",
       "       [ 94],\n",
       "       [154],\n",
       "       [170],\n",
       "       [253],\n",
       "       [253],\n",
       "       [253],\n",
       "       [253],\n",
       "       [253],\n",
       "       [225],\n",
       "       [172],\n",
       "       [253],\n",
       "       [242],\n",
       "       [195],\n",
       "       [ 64],\n",
       "       [  0],\n",
       "       [  0],\n",
       "       [  0],\n",
       "       [  0]], dtype=uint8)"
      ]
     },
     "execution_count": 6,
     "metadata": {
      "tags": []
     },
     "output_type": "execute_result"
    }
   ],
   "source": [
    "X_train[0][6]  # 값 보면 소수로 바꿔주는게 좋음"
   ]
  },
  {
   "cell_type": "code",
   "execution_count": 7,
   "metadata": {
    "colab": {},
    "colab_type": "code",
    "id": "EAwGeKryI2co"
   },
   "outputs": [],
   "source": [
    "X_train = X_train / 255.\n",
    "X_test = X_test / 255."
   ]
  },
  {
   "cell_type": "code",
   "execution_count": 8,
   "metadata": {
    "colab": {
     "base_uri": "https://localhost:8080/",
     "height": 52
    },
    "colab_type": "code",
    "id": "1hcyHfZwI2ve",
    "outputId": "086f8742-f916-408b-9b90-6df5142ae208"
   },
   "outputs": [
    {
     "name": "stdout",
     "output_type": "stream",
     "text": [
      "before: 5\n",
      "after: [0. 0. 0. 0. 0. 1. 0. 0. 0. 0.]\n"
     ]
    }
   ],
   "source": [
    "# onehot encoding\n",
    "y_train_onehot = tf.keras.utils.to_categorical(y_train)\n",
    "y_test_onehot = tf.keras.utils.to_categorical(y_test)\n",
    "\n",
    "print(f'before: {y_train[0]}\\nafter: {y_train_onehot[0]}')"
   ]
  },
  {
   "cell_type": "code",
   "execution_count": 9,
   "metadata": {
    "colab": {},
    "colab_type": "code",
    "id": "_n8ZsJGWI2xv"
   },
   "outputs": [],
   "source": [
    "# fit 과정에서 batch주고 shuffle해도 상관 없지만 메모리상의 이점을 위해서 한다고 생각하면 됨\n",
    "train_ds = tf.data.Dataset.from_tensor_slices((X_train, y_train_onehot)).shuffle(10000).batch(128)\n",
    "test_ds = tf.data.Dataset.from_tensor_slices((X_test, y_test_onehot)).batch(128)"
   ]
  },
  {
   "cell_type": "code",
   "execution_count": 10,
   "metadata": {
    "colab": {
     "base_uri": "https://localhost:8080/",
     "height": 474
    },
    "colab_type": "code",
    "id": "TxRG4CgZIQvA",
    "outputId": "778af2e0-de08-4096-f6d9-426d9d4845de"
   },
   "outputs": [
    {
     "name": "stdout",
     "output_type": "stream",
     "text": [
      "Model: \"functional_1\"\n",
      "_________________________________________________________________\n",
      "Layer (type)                 Output Shape              Param #   \n",
      "=================================================================\n",
      "input_1 (InputLayer)         [(None, 28, 28, 1)]       0         \n",
      "_________________________________________________________________\n",
      "conv2d (Conv2D)              (None, 26, 26, 128)       1280      \n",
      "_________________________________________________________________\n",
      "average_pooling2d (AveragePo (None, 13, 13, 128)       0         \n",
      "_________________________________________________________________\n",
      "conv2d_1 (Conv2D)            (None, 11, 11, 64)        73792     \n",
      "_________________________________________________________________\n",
      "average_pooling2d_1 (Average (None, 5, 5, 64)          0         \n",
      "_________________________________________________________________\n",
      "conv2d_2 (Conv2D)            (None, 3, 3, 32)          18464     \n",
      "_________________________________________________________________\n",
      "flatten (Flatten)            (None, 288)               0         \n",
      "_________________________________________________________________\n",
      "dense (Dense)                (None, 16)                4624      \n",
      "_________________________________________________________________\n",
      "dense_1 (Dense)              (None, 10)                170       \n",
      "=================================================================\n",
      "Total params: 98,330\n",
      "Trainable params: 98,330\n",
      "Non-trainable params: 0\n",
      "_________________________________________________________________\n"
     ]
    }
   ],
   "source": [
    "input = Input(shape=X_train.shape[1:])\n",
    "x = Conv2D(filters=128, kernel_size=(3, 3), padding='valid', activation='relu')(input)\n",
    "x = AveragePooling2D((2, 2), strides=(2, 2), padding='valid')(x)\n",
    "x = Conv2D(filters=64, kernel_size=(3, 3), padding='valid', activation='relu')(x)\n",
    "x = AveragePooling2D((2, 2), strides=(2, 2), padding='valid')(x)\n",
    "x = Conv2D(filters=32, kernel_size=(3, 3), padding='valid', activation='relu')(x)\n",
    "x = Flatten()(x)\n",
    "x = Dense(16, activation = 'relu')(x)\n",
    "output = Dense(10, activation='softmax')(x)\n",
    "\n",
    "model = Model(input, output)\n",
    "\n",
    "model.compile(loss='categorical_crossentropy', optimizer='adam', metrics=['accuracy'])\n",
    "model.summary()"
   ]
  },
  {
   "cell_type": "code",
   "execution_count": 11,
   "metadata": {
    "colab": {
     "base_uri": "https://localhost:8080/",
     "height": 369
    },
    "colab_type": "code",
    "id": "LQpAUq1vKrf8",
    "outputId": "06a5e1f3-9339-4618-da47-00e1281dcad4"
   },
   "outputs": [
    {
     "name": "stdout",
     "output_type": "stream",
     "text": [
      "Epoch 1/10\n",
      "469/469 [==============================] - 4s 9ms/step - loss: 0.3713 - accuracy: 0.8862 - val_loss: 0.1046 - val_accuracy: 0.9691\n",
      "Epoch 2/10\n",
      "469/469 [==============================] - 5s 10ms/step - loss: 0.1046 - accuracy: 0.9696 - val_loss: 0.0681 - val_accuracy: 0.9778\n",
      "Epoch 3/10\n",
      "469/469 [==============================] - 5s 10ms/step - loss: 0.0756 - accuracy: 0.9774 - val_loss: 0.0635 - val_accuracy: 0.9793\n",
      "Epoch 4/10\n",
      "469/469 [==============================] - 5s 10ms/step - loss: 0.0596 - accuracy: 0.9821 - val_loss: 0.0449 - val_accuracy: 0.9854\n",
      "Epoch 5/10\n",
      "469/469 [==============================] - 5s 10ms/step - loss: 0.0500 - accuracy: 0.9847 - val_loss: 0.0411 - val_accuracy: 0.9868\n",
      "Epoch 6/10\n",
      "469/469 [==============================] - 5s 10ms/step - loss: 0.0437 - accuracy: 0.9865 - val_loss: 0.0434 - val_accuracy: 0.9862\n",
      "Epoch 7/10\n",
      "469/469 [==============================] - 5s 10ms/step - loss: 0.0372 - accuracy: 0.9884 - val_loss: 0.0434 - val_accuracy: 0.9861\n",
      "Epoch 8/10\n",
      "469/469 [==============================] - 5s 10ms/step - loss: 0.0329 - accuracy: 0.9898 - val_loss: 0.0385 - val_accuracy: 0.9883\n",
      "Epoch 9/10\n",
      "469/469 [==============================] - 5s 10ms/step - loss: 0.0300 - accuracy: 0.9910 - val_loss: 0.0405 - val_accuracy: 0.9877\n",
      "Epoch 10/10\n",
      "469/469 [==============================] - 5s 10ms/step - loss: 0.0262 - accuracy: 0.9920 - val_loss: 0.0449 - val_accuracy: 0.9849\n"
     ]
    }
   ],
   "source": [
    "history = model.fit(train_ds, epochs=10, validation_data=test_ds, shuffle=True)"
   ]
  },
  {
   "cell_type": "code",
   "execution_count": 12,
   "metadata": {
    "colab": {
     "base_uri": "https://localhost:8080/",
     "height": 34
    },
    "colab_type": "code",
    "id": "Vdpd1SmeS1I9",
    "outputId": "9a085aad-ba0e-4117-e0c9-289fe828e277"
   },
   "outputs": [
    {
     "data": {
      "text/plain": [
       "[0.04485509172081947, 0.9848999977111816]"
      ]
     },
     "execution_count": 12,
     "metadata": {
      "tags": []
     },
     "output_type": "execute_result"
    }
   ],
   "source": [
    "model.evaluate(test_ds, verbose=0)"
   ]
  },
  {
   "cell_type": "code",
   "execution_count": 13,
   "metadata": {
    "colab": {
     "base_uri": "https://localhost:8080/",
     "height": 34
    },
    "colab_type": "code",
    "id": "BLRd_VOWTOb1",
    "outputId": "80ed32cd-8eea-44b9-f42c-89637cfd1f2e"
   },
   "outputs": [
    {
     "data": {
      "text/plain": [
       "dict_keys(['loss', 'accuracy', 'val_loss', 'val_accuracy'])"
      ]
     },
     "execution_count": 13,
     "metadata": {
      "tags": []
     },
     "output_type": "execute_result"
    }
   ],
   "source": [
    "# history.history 저장 값\n",
    "history.history.keys()"
   ]
  },
  {
   "cell_type": "code",
   "execution_count": 14,
   "metadata": {
    "colab": {
     "base_uri": "https://localhost:8080/",
     "height": 295
    },
    "colab_type": "code",
    "id": "9XpyBM83S_st",
    "outputId": "a62de2a7-2593-4086-f612-9ff805e9e121"
   },
   "outputs": [
    {
     "data": {
      "image/png": "[encoded data removed]",
      "text/plain": [
       "<Figure size 864x288 with 2 Axes>"
      ]
     },
     "metadata": {
      "needs_background": "light",
      "tags": []
     },
     "output_type": "display_data"
    }
   ],
   "source": [
    "fig, ax = plt.subplots(1, 2)\n",
    "fig.set_size_inches(12, 4)\n",
    "\n",
    "ax[0].plot(history.history['accuracy'])\n",
    "ax[0].plot(history.history['val_accuracy'])\n",
    "ax[0].set_title('model accuracy')\n",
    "ax[0].set_xlabel('epochs')\n",
    "ax[0].set_ylabel('accuracy')\n",
    "ax[0].legend(['train', 'test'])\n",
    "\n",
    "ax[1].plot(history.history['loss'])\n",
    "ax[1].plot(history.history['val_loss'])\n",
    "ax[1].set_title('model loss')\n",
    "ax[1].set_xlabel('epochs')\n",
    "ax[1].set_ylabel('loss')\n",
    "ax[1].legend(['train', 'test'])\n",
    "\n",
    "plt.show()"
   ]
  },
  {
   "cell_type": "code",
   "execution_count": 15,
   "metadata": {
    "colab": {
     "base_uri": "https://localhost:8080/",
     "height": 34
    },
    "colab_type": "code",
    "id": "Qk-qaxufVhsO",
    "outputId": "924608f8-b581-4b02-e470-2587a217558b"
   },
   "outputs": [
    {
     "data": {
      "text/plain": [
       "array([7, 2, 1, ..., 4, 5, 6])"
      ]
     },
     "execution_count": 15,
     "metadata": {
      "tags": []
     },
     "output_type": "execute_result"
    }
   ],
   "source": [
    "y_pred = model.predict(X_test)\n",
    "y_pred = np.argmax(y_pred, axis=1)\n",
    "y_pred"
   ]
  },
  {
   "cell_type": "code",
   "execution_count": 16,
   "metadata": {
    "colab": {
     "base_uri": "https://localhost:8080/",
     "height": 193
    },
    "colab_type": "code",
    "id": "2nXPxlSdVh4m",
    "outputId": "80c721f6-d9f1-4006-abca-ca82f6b27cad"
   },
   "outputs": [
    {
     "name": "stdout",
     "output_type": "stream",
     "text": [
      "[[ 975    0    0    0    0    0    1    1    3    0]\n",
      " [   1 1116    3    4    0    0    1    2    8    0]\n",
      " [   0    1 1022    1    0    0    0    4    4    0]\n",
      " [   0    0    1 1006    0    2    0    0    1    0]\n",
      " [   1    0    1    0  954    0    4    1    3   18]\n",
      " [   1    0    0    8    0  882    1    0    0    0]\n",
      " [   4    2    1    0    1    9  936    0    5    0]\n",
      " [   0    1    5    6    0    0    0  996    3   17]\n",
      " [   0    0    1    4    0    2    0    0  964    3]\n",
      " [   0    0    0    1    3    3    0    0    4  998]]\n"
     ]
    }
   ],
   "source": [
    "from sklearn.metrics import confusion_matrix, accuracy_score\n",
    "\n",
    "print(confusion_matrix(y_test, y_pred))"
   ]
  },
  {
   "cell_type": "code",
   "execution_count": 17,
   "metadata": {
    "colab": {
     "base_uri": "https://localhost:8080/",
     "height": 462
    },
    "colab_type": "code",
    "id": "hga9hVmwVh9n",
    "outputId": "bfef3413-54c7-484a-a128-297191a2b4e9"
   },
   "outputs": [
    {
     "name": "stderr",
     "output_type": "stream",
     "text": [
      "/usr/local/lib/python3.6/dist-packages/statsmodels/tools/_testing.py:19: FutureWarning: pandas.util.testing is deprecated. Use the functions in the public API at pandas.testing instead.\n",
      "  import pandas.util.testing as tm\n"
     ]
    },
    {
     "name": "stdout",
     "output_type": "stream",
     "text": [
      "Test Accuracy : 0.9849\n"
     ]
    },
    {
     "data": {
      "image/png": "[encoded data removed]",
      "text/plain": [
       "<Figure size 504x432 with 2 Axes>"
      ]
     },
     "metadata": {
      "needs_background": "light",
      "tags": []
     },
     "output_type": "display_data"
    }
   ],
   "source": [
    "import seaborn as sns\n",
    "\n",
    "plt.figure(figsize=(7,6))\n",
    "\n",
    "sns.heatmap(confusion_matrix(y_test, y_pred), annot=True, fmt='d')\n",
    "\n",
    "plt.xticks(np.arange(10), list(range(10)), rotation=45, fontsize=12)\n",
    "plt.yticks(np.arange(10), list(range(10)), rotation=45, fontsize=12)\n",
    "plt.xlabel(\"true class\")\n",
    "plt.ylabel(\"predicted class\")\n",
    "plt.title('Confusion Matrix')\n",
    "print('Test Accuracy :', accuracy_score(y_test, y_pred))\n",
    "plt.show()"
   ]
  },
  {
   "cell_type": "code",
   "execution_count": 18,
   "metadata": {
    "colab": {
     "base_uri": "https://localhost:8080/",
     "height": 594
    },
    "colab_type": "code",
    "id": "wyJ-QAfySa_H",
    "outputId": "d8982c55-f289-4618-88e1-3aa2b9be665a"
   },
   "outputs": [
    {
     "data": {
      "image/png": "[encoded data removed]",
      "text/plain": [
       "<Figure size 720x720 with 25 Axes>"
      ]
     },
     "metadata": {
      "tags": []
     },
     "output_type": "display_data"
    }
   ],
   "source": [
    "fig, ax = plt.subplots(5, 5)\n",
    "\n",
    "fig.set_size_inches(10, 10)\n",
    "\n",
    "for r in range(5):\n",
    "  for c in range(5):\n",
    "    tmp = (r+1)*(c+1)-1\n",
    "    ax[r, c].set_title('true: {}, pred: {}'.format(y_test[tmp], y_pred[tmp]))\n",
    "    ax[r, c].imshow(X_test[tmp].reshape(28, 28), cmap = plt.cm.binary)\n",
    "    ax[r, c].set_xticks([])\n",
    "    ax[r, c].set_yticks([])\n",
    "\n",
    "plt.show()"
   ]
  },
  {
   "cell_type": "markdown",
   "metadata": {
    "colab": {},
    "colab_type": "code",
    "id": "DbeU5obmVPtQ"
   },
   "source": [
    "train_ds = tf.data.Dataset.from_tensor_slices((X_train, y_train_onehot)).shuffle(10000).batch(128)\\\n",
    "test_ds = tf.data.Dataset.from_tensor_slices((X_test, y_test_onehot)).batch(128)\\\n",
    "이거 뭐하는건지\\\n",
    "- fit과정에서 batch와 shuffle을 줘도 상관 없지만 메모리의 효율을 위해 사용한다고 생각\n",
    "\n",
    "kernel_size = 5 해도 되는지 (5, 5) 안해도 되는건지\\\n",
    "- 같은 의미임\n",
    "\n",
    "onehot 안하고 sparse_categorical_crossentropy\\\n",
    "vs\\\n",
    "onehot하고 categorical_crossentropy\\\n",
    "- sparse_categorical_crossentropy를 쓰는 것이 메모리적인 측면에서 더 좋다\n",
    "\n",
    "activation을 argument로 주는거랑 레이어 따로 쌓는거랑 기능이 다른지\\\n",
    "- 완전히 같은 기능\n",
    "\n",
    "에폭 돌때 옆에 나오는 숫자 469 뭔지\\\n",
    "- int(X_train.shape[0]/batch_size)와 같음\n",
    "\n",
    "predict_classes안되는건 시퀀셜안써서 그런가\\\n",
    "- 그런듯. 그냥 np.argmax(y_pred, axis=1) 사용할 것"
   ]
  }
 ],
 "metadata": {
  "accelerator": "GPU",
  "colab": {
   "name": "CNN.ipynb",
   "provenance": []
  },
  "kernelspec": {
   "display_name": "Python 3",
   "language": "python",
   "name": "python3"
  },
  "language_info": {
   "codemirror_mode": {
    "name": "ipython",
    "version": 3
   },
   "file_extension": ".py",
   "mimetype": "text/x-python",
   "name": "python",
   "nbconvert_exporter": "python",
   "pygments_lexer": "ipython3",
   "version": "3.8.5"
  }
 },
 "nbformat": 4,
 "nbformat_minor": 1
}
