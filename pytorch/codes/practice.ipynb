{
 "cells": [
  {
   "cell_type": "code",
   "execution_count": 5,
   "id": "e6ed5f38",
   "metadata": {},
   "outputs": [],
   "source": [
    "CONFIGS = {\n",
    "    'data_path': '../data/',\n",
    "}"
   ]
  },
  {
   "cell_type": "code",
   "execution_count": 59,
   "id": "db44e714",
   "metadata": {},
   "outputs": [],
   "source": [
    "import numpy as np\n",
    "import pandas as pd\n",
    "\n",
    "import pickle\n",
    "\n",
    "import datetime"
   ]
  },
  {
   "cell_type": "code",
   "execution_count": 6,
   "id": "367837a6",
   "metadata": {},
   "outputs": [],
   "source": [
    "with open(CONFIGS['data_path']+'train_prob1.pkl', 'rb') as f:\n",
    "    train_origin = pickle.load(f)\n",
    "    \n",
    "with open(CONFIGS['data_path']+'test_prob1.pkl', 'rb') as f:\n",
    "    test_origin = pickle.load(f)"
   ]
  },
  {
   "cell_type": "code",
   "execution_count": 53,
   "id": "ee6a9da8",
   "metadata": {},
   "outputs": [],
   "source": [
    "train = train_origin.copy()\n",
    "test = test_origin.copy()"
   ]
  },
  {
   "cell_type": "code",
   "execution_count": 54,
   "id": "35e99d13",
   "metadata": {},
   "outputs": [],
   "source": [
    "def status_to_int(data):\n",
    "    new_data = data.copy()\n",
    "    new_data['status'] = new_data['status'].apply(lambda x: int(x[-1]))\n",
    "    return new_data\n",
    "\n",
    "def code_count_in_code(data, train):\n",
    "    oc = train.groupby(['origin_code'], as_index=False)[['dt']].count()\\\n",
    "        .rename(columns={'origin_code': 'code', 'dt': 'oc'})\n",
    "    dc = train.groupby(['destination_code'], as_index=False)[['dt']].count()\\\n",
    "        .rename(columns={'destination_code': 'code', 'dt': 'dc'})\n",
    "\n",
    "    code_count = pd.merge(oc, dc, how='outer', on='code').fillna(0)\n",
    "\n",
    "    merge_oc = pd.merge(\n",
    "        data, code_count.rename(columns={'code': 'origin_code'}),\n",
    "        how='left', on='origin_code'\n",
    "    ).rename(columns={'oc': 'oc_in_oc', 'dc': 'oc_in_dc'})\n",
    "\n",
    "    merge_dc = pd.merge(\n",
    "        merge_oc, code_count.rename(columns={'code': 'destination_code'}),\n",
    "        how='left', on='destination_code'\n",
    "    ).rename(columns={'oc': 'dc_in_oc', 'dc': 'dc_in_dc'})\n",
    "    \n",
    "    return merge_dc.fillna(0)"
   ]
  },
  {
   "cell_type": "code",
   "execution_count": 55,
   "id": "a58cb046",
   "metadata": {},
   "outputs": [],
   "source": [
    "train, test = status_to_int(train), status_to_int(test)\n",
    "train, test = code_count_in_code(train, train), code_count_in_code(test, train)"
   ]
  },
  {
   "cell_type": "code",
   "execution_count": 81,
   "id": "baad50fd",
   "metadata": {},
   "outputs": [],
   "source": [
    "new_data = train.copy()"
   ]
  },
  {
   "cell_type": "code",
   "execution_count": 82,
   "id": "4086e23d",
   "metadata": {},
   "outputs": [],
   "source": [
    "new_data['dt'] = new_data['dt'].apply(lambda x: datetime.datetime.strptime(x, '%Y-%m-%d %H:%M:%S.%f'))\n",
    "new_data['hour'] = new_data['dt'].apply(lambda x: x.hour)\n",
    "new_data['minute'] = new_data['dt'].apply(lambda x: x.minute)\n",
    "new_data['second'] = new_data['dt'].apply(lambda x: x.second)"
   ]
  },
  {
   "cell_type": "code",
   "execution_count": null,
   "id": "046f16e8",
   "metadata": {},
   "outputs": [],
   "source": []
  }
 ],
 "metadata": {
  "kernelspec": {
   "display_name": "Python 3 (ipykernel)",
   "language": "python",
   "name": "python3"
  },
  "language_info": {
   "codemirror_mode": {
    "name": "ipython",
    "version": 3
   },
   "file_extension": ".py",
   "mimetype": "text/x-python",
   "name": "python",
   "nbconvert_exporter": "python",
   "pygments_lexer": "ipython3",
   "version": "3.7.10"
  }
 },
 "nbformat": 4,
 "nbformat_minor": 5
}
