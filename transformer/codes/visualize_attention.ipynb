{
 "cells": [
  {
   "cell_type": "code",
   "execution_count": 1,
   "id": "fd99892f",
   "metadata": {},
   "outputs": [],
   "source": [
    "import pickle\n",
    "\n",
    "import matplotlib.pyplot as plt\n",
    "\n",
    "import torch\n",
    "\n",
    "from chatbot_data_preprocessing import *\n",
    "from chatbot import *\n",
    "\n",
    "plt.rcParams[\"font.family\"] = 'NanumGothicCoding'"
   ]
  },
  {
   "cell_type": "code",
   "execution_count": 2,
   "id": "aadcc43d",
   "metadata": {},
   "outputs": [],
   "source": [
    "TOKENIZER_PATH = '../model/'\n",
    "TOKENIZER_NAME = 'tokenizer'\n",
    "\n",
    "MODEL_PATH = '../model/'\n",
    "MODEL_NAME = 'chatbot'\n",
    "\n",
    "device = 'cuda' if torch.cuda.is_available() else 'cpu'"
   ]
  },
  {
   "cell_type": "code",
   "execution_count": 3,
   "id": "fc9e62d8",
   "metadata": {},
   "outputs": [],
   "source": [
    "with open(TOKENIZER_PATH+TOKENIZER_NAME+'.pickle', 'rb') as f:\n",
    "    tokenizer = pickle.load(f)\n",
    "    \n",
    "transformer = torch.load(MODEL_PATH+MODEL_NAME+'.pt')\n",
    "_ = transformer.eval()"
   ]
  },
  {
   "cell_type": "code",
   "execution_count": 4,
   "id": "6a4cef9c",
   "metadata": {},
   "outputs": [],
   "source": [
    "question = '내 꿈은 건물주'\n",
    "chatbot = Chatbot(transformer, tokenizer, device)\n",
    "\n",
    "answer, attention = chatbot.qna(question)"
   ]
  },
  {
   "cell_type": "code",
   "execution_count": 5,
   "id": "7665e529",
   "metadata": {},
   "outputs": [
    {
     "name": "stdout",
     "output_type": "stream",
     "text": [
      "Question: 내 꿈은 건물주\n",
      "Answer: 이룰 수 있을 거예요.\n"
     ]
    },
    {
     "data": {
      "image/png": "[encoded data removed]",
      "text/plain": [
       "<Figure size 1728x432 with 1 Axes>"
      ]
     },
     "metadata": {
      "needs_background": "light"
     },
     "output_type": "display_data"
    }
   ],
   "source": [
    "print('Question:', question)\n",
    "print('Answer:', answer)\n",
    "chatbot.plot_attention_weights(draw_mean=True)"
   ]
  },
  {
   "cell_type": "code",
   "execution_count": null,
   "id": "e9c0255d",
   "metadata": {},
   "outputs": [],
   "source": []
  }
 ],
 "metadata": {
  "kernelspec": {
   "display_name": "Python 3 (ipykernel)",
   "language": "python",
   "name": "python3"
  },
  "language_info": {
   "codemirror_mode": {
    "name": "ipython",
    "version": 3
   },
   "file_extension": ".py",
   "mimetype": "text/x-python",
   "name": "python",
   "nbconvert_exporter": "python",
   "pygments_lexer": "ipython3",
   "version": "3.7.11"
  }
 },
 "nbformat": 4,
 "nbformat_minor": 5
}
